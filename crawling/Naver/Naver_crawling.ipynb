{
 "cells": [
  {
   "cell_type": "code",
   "execution_count": 1,
   "metadata": {},
   "outputs": [
    {
     "name": "stdout",
     "output_type": "stream",
     "text": [
      "sd******몇백억횡령해도기껏5년정도살고나오니목숨걸고하지...사기범죄를장려하는대한민국만세다2024.07.16.23:29답글1공감/비공감공감65비공감0\n",
      "synt****근데은행돈이662억이날라갔으면은행원한테보너스로뿌린돈을회수해서메꿔야지왜지들이날린돈을고객돈으로메꿈?2024.07.17.04:39답글0공감/비공감공감23비공감1\n",
      "lock****날렸겠냐?????사돈의팔촌마늘밭에묻어놨지....ㅋㅋㅋㅋㅎㅎㅎㅎㅎㅎ깜빵갔다와서인생피는거야...ㅋㅋㅋㅋㅎㅎㅎ2024.07.16.23:49답글0공감/비공감공감11비공감0\n",
      "daki****할만하다진심2024.07.16.23:17답글0공감/비공감공감11비공감0\n",
      "rlfw****이도둑놈들..은행금고에가둬야된다..돈대신2024.07.16.23:21답글0공감/비공감공감8비공감0\n",
      "ston****작성자에의해삭제된댓글입니다.2024.08.02.23:54\n",
      "leen****시스템개선도중요하지만책임을강화해서피의당사자는1억당5년,관리자는1억에2년징역형정도로하는것이좋을것으로보임.이대로는절대개선이불가하고강한처벌이이루어져야함2024.07.16.23:38답글0공감/비공감공감2비공감0\n",
      "bora****성과급환수ㄱㄱ2024.07.17.08:54답글0공감/비공감공감1비공감0\n",
      "0106****정직하게책임감가지고사는사람들바보만드니이땅에무슨미래가있겠니각자도생지옥만남은거지2024.07.17.05:48답글0공감/비공감공감1비공감0\n",
      "skdu****작성자에의해삭제된댓글입니다.2024.07.17.12:33\n",
      "stor****농협이랑우리은행문제인정부때명절연휴마다전산장애로고객답답하게했다.두은행의공통점은좌파란거.200억횡령하고13년무료콩밥먹고200억2024.07.16.23:34답글1공감/비공감공감3비공감3\n",
      "kimd****만약이나라가망한다면이유는하나다.법이엉망이라서다.2024.07.18.23:43답글0공감/비공감공감0비공감0\n",
      "sdw9****이런가당치도않은솜방망이처벌로끊임없이도둑질이자행되고있는거다약자에겐한없이무겁기만한이노무나라법집행ㅠㅠ2024.07.17.08:48답글0공감/비공감공감0비공감0\n",
      "shyu****이런거는다게워낼때까지징역형.가족들도최소10년이상징역형.이러면게워내겠지.2024.07.17.08:45답글0공감/비공감공감0비공감0\n",
      "hiut****자본주의사회에서돈해먹는인간이젤악질아닌가은행은참무책임하네요2024.07.17.08:35답글0공감/비공감공감0비공감0\n",
      "phot****도둑님들께돈을맡기는꼴이네~~😡😡😡2024.07.17.08:22답글0공감/비공감공감0비공감0\n",
      "hope****은행취업목표가돈해먹기위한거구나.2024.07.17.08:19답글0공감/비공감공감0비공감0\n",
      "dhtn****작성자에의해삭제된댓글입니다.2024.07.18.21:48\n",
      "leeh****윗대가리랑짜고치는건데냠냠.당연한탕하고어차피감옥가도남는장사인데2024.07.17.00:34답글0공감/비공감공감0비공감0\n",
      "chgc****강한처벌은범재예방에효과가업다고증명됫으니교화시키는개중하지2024.07.17.00:41답글0공감/비공감공감0비공감1\n"
     ]
    }
   ],
   "source": [
    "# 뉴스 동적크롤링 댓글 크롤링 (찐성공)\n",
    "\n",
    "from selenium import webdriver\n",
    "from selenium.webdriver.common.by import By\n",
    "from selenium.webdriver.support.ui import WebDriverWait\n",
    "from selenium.webdriver.support import expected_conditions as EC\n",
    "\n",
    "all_Content =[]\n",
    "\n",
    "driver = webdriver.Chrome()\n",
    "driver.get('https://n.news.naver.com/mnews/article/comment/009/0005335684')\n",
    "\n",
    "try:\n",
    "    WebDriverWait(driver, 5).until(\n",
    "        EC.presence_of_element_located((By.CSS_SELECTOR, '#cbox_module_wai_u_cbox_content_wrap_tabpanel > ul > li.u_cbox_comment'))\n",
    "    )\n",
    "    comments = driver.find_elements(By.CSS_SELECTOR, '#cbox_module_wai_u_cbox_content_wrap_tabpanel > ul > li.u_cbox_comment')\n",
    "    for comment in comments:\n",
    "        abc = comment.text.replace(\"댓글모음\", \"\").replace(\"팔로우\", \"\").replace(\"옵션 열기\", \"\")\n",
    "        print(''.join(abc.split()))\n",
    "except:\n",
    "    pass\n",
    "\n",
    "finally:\n",
    "    driver.quit()"
   ]
  },
  {
   "cell_type": "code",
   "execution_count": null,
   "metadata": {},
   "outputs": [],
   "source": []
  }
 ],
 "metadata": {
  "kernelspec": {
   "display_name": "Python 3",
   "language": "python",
   "name": "python3"
  },
  "language_info": {
   "codemirror_mode": {
    "name": "ipython",
    "version": 3
   },
   "file_extension": ".py",
   "mimetype": "text/x-python",
   "name": "python",
   "nbconvert_exporter": "python",
   "pygments_lexer": "ipython3",
   "version": "3.12.3"
  }
 },
 "nbformat": 4,
 "nbformat_minor": 2
}
