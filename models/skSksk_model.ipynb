{
 "cells": [
  {
   "cell_type": "code",
   "execution_count": null,
   "id": "8adff83f-4b23-4cf0-84b6-70b12c16c8d4",
   "metadata": {},
   "outputs": [],
   "source": [
    "import pandas as pd\n",
    "\n",
    "df = pd.read_csv(r\"C:\\Users\\compro\\week3\\자연어\\네이버 기사\\형일\\클랜징\\Naver_cleansed_8S.csv\")\n",
    "df = df.dropna()\n",
    "df"
   ]
  },
  {
   "cell_type": "code",
   "execution_count": null,
   "id": "d0e3ffd8",
   "metadata": {},
   "outputs": [],
   "source": [
    "asdf = df.sample(frac=0.05, random_state=42)  # 5% 데이터만 사용\n",
    "asdf"
   ]
  },
  {
   "cell_type": "code",
   "execution_count": null,
   "id": "fd869615",
   "metadata": {},
   "outputs": [],
   "source": [
    "from sklearn.feature_extraction.text import CountVectorizer\n",
    "import numpy as np\n",
    "from konlpy.tag import Mecab\n",
    "\n",
    "m = Mecab()\n",
    "m_1 = m.nouns(asdf['content'].iloc[0])\n",
    "m_2 = m.nouns(asdf['content'].iloc[1])\n",
    "\n",
    "m_1_str = ' '.join(m_1)\n",
    "m_2_str = ' '.join(m_2)\n",
    "\n",
    "count_vect = CountVectorizer(min_df=0.05, ngram_range=(1, 2))\n",
    "a = count_vect.fit_transform([m_1_str, m_2_str]).toarray()\n",
    "\n",
    "vector_a = a[0]\n",
    "vector_b = a[1]\n",
    "\n",
    "def cosine_similarity(A, B):\n",
    "    dot_product = np.dot(A, B)\n",
    "    norm_A = np.linalg.norm(A)\n",
    "    norm_B = np.linalg.norm(B)\n",
    "    return dot_product / (norm_A * norm_B)\n",
    "\n",
    "result = cosine_similarity(vector_a, vector_b)\n",
    "print(\"Cosine Similarity:\", result)"
   ]
  },
  {
   "cell_type": "code",
   "execution_count": null,
   "id": "4d0643db",
   "metadata": {},
   "outputs": [],
   "source": [
    "import torch\n",
    "from transformers import BertTokenizer, BertModel\n",
    "from konlpy.tag import Mecab\n",
    "import numpy as np\n",
    "\n",
    "m = Mecab()\n",
    "tokenizer = BertTokenizer.from_pretrained('klue/bert-base')\n",
    "model = BertModel.from_pretrained('klue/bert-base')\n",
    "\n",
    "def embed_sentence(sentence, tokenizer, model):\n",
    "    inputs = tokenizer(sentence, return_tensors=\"pt\", padding=True, truncation=True)\n",
    "    with torch.no_grad():\n",
    "        outputs = model(**inputs)\n",
    "    return outputs.last_hidden_state[:, 0, :].squeeze().cpu().numpy()\n",
    "\n",
    "nouns_list = [m.nouns(content) for content in asdf['content']]\n",
    "nouns_str_list = [' '.join(nouns) for nouns in nouns_list]\n",
    "\n",
    "sentence_embeddings = [embed_sentence(sentence, tokenizer, model) for sentence in nouns_str_list]\n",
    "sentence_embeddings = np.array(sentence_embeddings)\n",
    "\n",
    "def cosine_similarity(A, B):\n",
    "    dot_product = np.dot(A, B)\n",
    "    norm_A = np.linalg.norm(A)\n",
    "    norm_B = np.linalg.norm(B)\n",
    "    return dot_product / (norm_A * norm_B)\n",
    "\n",
    "# 첫 번째 문장 기준으로 모든 문장의 content 유사도 계산\n",
    "similarities = []\n",
    "vector_0 = sentence_embeddings[0]\n",
    "\n",
    "for i in range(len(sentence_embeddings)):\n",
    "    vector_i = sentence_embeddings[i]\n",
    "    sim = cosine_similarity(vector_0, vector_i)\n",
    "    similarities.append(sim)\n",
    "\n",
    "sorted_indices = np.argsort(similarities)[::-1]\n",
    "\n",
    "# 유사도 기반 추천 함수\n",
    "def find_sim_content_with_similarity(df, sorted_indices, similarities, top_n=10):\n",
    "    top_indices = sorted_indices[1:top_n+1]\n",
    "    sim_contents = df.iloc[top_indices].copy()\n",
    "    sim_contents['similarity'] = [similarities[i] for i in top_indices]\n",
    "    \n",
    "    return sim_contents\n",
    "\n",
    "# 추천 콘텐츠 찾기 (유사도 함께 표시)\n",
    "similar_contents_with_similarity = find_sim_content_with_similarity(asdf, sorted_indices, similarities, top_n=10)\n",
    "print(similar_contents_with_similarity[['content', 'similarity']])\n"
   ]
  }
 ],
 "metadata": {
  "kernelspec": {
   "display_name": "Python 3 (ipykernel)",
   "language": "python",
   "name": "python3"
  },
  "language_info": {
   "codemirror_mode": {
    "name": "ipython",
    "version": 3
   },
   "file_extension": ".py",
   "mimetype": "text/x-python",
   "name": "python",
   "nbconvert_exporter": "python",
   "pygments_lexer": "ipython3",
   "version": "3.11.9"
  }
 },
 "nbformat": 4,
 "nbformat_minor": 5
}
